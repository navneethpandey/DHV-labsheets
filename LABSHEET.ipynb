{
  "nbformat": 4,
  "nbformat_minor": 0,
  "metadata": {
    "colab": {
      "private_outputs": true,
      "provenance": [],
      "gpuType": "T4"
    },
    "kernelspec": {
      "name": "python3",
      "display_name": "Python 3"
    },
    "language_info": {
      "name": "python"
    }
  },
  "cells": [
    {
      "cell_type": "code",
      "execution_count": null,
      "metadata": {
        "id": "zCGbeymaI6kw"
      },
      "outputs": [],
      "source": [
        "import pandas as pd"
      ]
    },
    {
      "cell_type": "code",
      "source": [
        "raw_csv_data=pd.read_csv(\"/content/Absenteeism-data.csv\")"
      ],
      "metadata": {
        "id": "VHyNp8tFJGzE"
      },
      "execution_count": null,
      "outputs": []
    },
    {
      "cell_type": "code",
      "source": [
        "type(raw_csv_data)"
      ],
      "metadata": {
        "id": "ACIa9gMiMLim"
      },
      "execution_count": null,
      "outputs": []
    },
    {
      "cell_type": "code",
      "source": [
        "raw_csv_data"
      ],
      "metadata": {
        "id": "XLp3T7zCMgcA"
      },
      "execution_count": null,
      "outputs": []
    },
    {
      "cell_type": "code",
      "source": [
        "df=raw_csv_data.copy()"
      ],
      "metadata": {
        "id": "oR9Rf_GxMl-U"
      },
      "execution_count": null,
      "outputs": []
    },
    {
      "cell_type": "code",
      "source": [
        "df"
      ],
      "metadata": {
        "id": "szqhXjapNKRw"
      },
      "execution_count": null,
      "outputs": []
    },
    {
      "cell_type": "code",
      "source": [
        "pd.options.display.max_columns = None\n",
        "pd.options.display.max_rows = None"
      ],
      "metadata": {
        "id": "KvgicR5aNTzd"
      },
      "execution_count": null,
      "outputs": []
    },
    {
      "cell_type": "code",
      "source": [
        "display(df)"
      ],
      "metadata": {
        "id": "cUDY1d-SNnFA"
      },
      "execution_count": null,
      "outputs": []
    },
    {
      "cell_type": "code",
      "source": [
        "df.info()"
      ],
      "metadata": {
        "id": "VZ7egUmiN5m1"
      },
      "execution_count": null,
      "outputs": []
    },
    {
      "cell_type": "code",
      "source": [
        "df.drop(['ID'], axis =1)"
      ],
      "metadata": {
        "id": "bJEDW6xjOHHY"
      },
      "execution_count": null,
      "outputs": []
    },
    {
      "cell_type": "code",
      "source": [
        "df=df.drop(['ID'], axis =1 )"
      ],
      "metadata": {
        "id": "r5PPm0UmPYXC"
      },
      "execution_count": null,
      "outputs": []
    },
    {
      "cell_type": "code",
      "source": [
        "df"
      ],
      "metadata": {
        "id": "qGWVBGoTPefo"
      },
      "execution_count": null,
      "outputs": []
    },
    {
      "cell_type": "code",
      "source": [
        "raw_csv_data"
      ],
      "metadata": {
        "id": "lKyMefuTPgIs"
      },
      "execution_count": null,
      "outputs": []
    },
    {
      "cell_type": "code",
      "source": [
        "df['Reason for Absence'].min()"
      ],
      "metadata": {
        "id": "AwTNcWWEP0Ne"
      },
      "execution_count": null,
      "outputs": []
    },
    {
      "cell_type": "code",
      "source": [
        "df['Reason for Absence'].max()"
      ],
      "metadata": {
        "id": "8kId-d7CP-eb"
      },
      "execution_count": null,
      "outputs": []
    },
    {
      "cell_type": "code",
      "source": [
        "pd.unique(df['Reason for Absence'])"
      ],
      "metadata": {
        "id": "-PkU3qwhQFrM"
      },
      "execution_count": null,
      "outputs": []
    },
    {
      "cell_type": "code",
      "source": [
        "len(df['Reason for Absence'].unique())"
      ],
      "metadata": {
        "id": "I6M3sDquQZkR"
      },
      "execution_count": null,
      "outputs": []
    },
    {
      "cell_type": "code",
      "source": [
        "sorted(df['Reason for Absence'].unique())"
      ],
      "metadata": {
        "id": "ztDM5tcyQ3MJ"
      },
      "execution_count": null,
      "outputs": []
    },
    {
      "cell_type": "code",
      "source": [
        "reason_columns = pd.get_dummies(df['Reason for Absence'].unique())"
      ],
      "metadata": {
        "id": "zdeA-70DRanb"
      },
      "execution_count": null,
      "outputs": []
    },
    {
      "cell_type": "code",
      "source": [
        "reason_columns"
      ],
      "metadata": {
        "id": "SlrjU1VsRxQL"
      },
      "execution_count": null,
      "outputs": []
    },
    {
      "cell_type": "code",
      "source": [
        "reason_columns['Check'] = reason_columns.sum (axis = 1)\n",
        "reason_columns"
      ],
      "metadata": {
        "id": "tSHvFOZRSG72"
      },
      "execution_count": null,
      "outputs": []
    },
    {
      "cell_type": "code",
      "source": [
        "reason_columns=pd.get_dummies(df['Reason for Absence'], drop_first = True)\n",
        "reason_columns"
      ],
      "metadata": {
        "id": "qtRIW1qdTCbb"
      },
      "execution_count": null,
      "outputs": []
    },
    {
      "cell_type": "code",
      "source": [
        "df.columns.values"
      ],
      "metadata": {
        "id": "S3ylWnOYWJmi"
      },
      "execution_count": null,
      "outputs": []
    },
    {
      "cell_type": "code",
      "source": [
        "reason_columns.columns.values"
      ],
      "metadata": {
        "id": "Upr6J8YZhFMT"
      },
      "execution_count": null,
      "outputs": []
    },
    {
      "cell_type": "code",
      "source": [
        "df=df.drop(['Reason for Absence'], axis=1)"
      ],
      "metadata": {
        "id": "iiXfeF8NhIlE"
      },
      "execution_count": null,
      "outputs": []
    },
    {
      "cell_type": "code",
      "source": [
        "df"
      ],
      "metadata": {
        "id": "D-WU8jg8hOAd"
      },
      "execution_count": null,
      "outputs": []
    },
    {
      "cell_type": "code",
      "source": [
        "reason_columns.loc[:, 1:14].max(axis=1)"
      ],
      "metadata": {
        "id": "VgO4YlMhhSuo"
      },
      "execution_count": null,
      "outputs": []
    },
    {
      "cell_type": "code",
      "source": [
        "reason_type_1=reason_columns.loc[:, 1:14].max(axis=1)\n",
        "reason_type_2=reason_columns.loc[:, 15:17].max(axis=1)\n",
        "reason_type_3=reason_columns.loc[:, 18:21].max(axis=1)\n",
        "reason_type_4=reason_columns.loc[:, 22:].max(axis=1)"
      ],
      "metadata": {
        "id": "CiQUI1vchVwj"
      },
      "execution_count": null,
      "outputs": []
    },
    {
      "cell_type": "code",
      "source": [
        "reason_type_2"
      ],
      "metadata": {
        "id": "yDDglaTthe36"
      },
      "execution_count": null,
      "outputs": []
    },
    {
      "cell_type": "code",
      "source": [
        "df"
      ],
      "metadata": {
        "id": "MKlOgHblhgFL"
      },
      "execution_count": null,
      "outputs": []
    },
    {
      "cell_type": "code",
      "source": [
        "df=pd.concat([df, reason_type_1, reason_type_2, reason_type_3, reason_type_4], axis=1)\n",
        "df"
      ],
      "metadata": {
        "id": "X6kJkvmKhiha"
      },
      "execution_count": null,
      "outputs": []
    },
    {
      "cell_type": "code",
      "source": [
        "df.columns.values"
      ],
      "metadata": {
        "id": "GNlV3Ptmhqpw"
      },
      "execution_count": null,
      "outputs": []
    },
    {
      "cell_type": "code",
      "source": [
        "column_names=['Date', 'Transportation Expense', 'Distance to Work', 'Age',\n",
        "'Daily Work Load Average', 'Body Mass Index', 'Education',\n",
        "'Children', 'Pets', 'Absenteeism Time in Hours', 'Reason_1', 'Reason_2', 'Reason_3', 'Reason_4']"
      ],
      "metadata": {
        "id": "BrmP_nyUhug0"
      },
      "execution_count": null,
      "outputs": []
    },
    {
      "cell_type": "code",
      "source": [
        "df.columns=column_names"
      ],
      "metadata": {
        "id": "h2BLY69bh4ka"
      },
      "execution_count": null,
      "outputs": []
    },
    {
      "cell_type": "code",
      "source": [
        "df.head()"
      ],
      "metadata": {
        "id": "U0NZDr3ph_Ua"
      },
      "execution_count": null,
      "outputs": []
    },
    {
      "cell_type": "code",
      "source": [
        "column_names_reordered=['Reason_1', 'Reason_2', 'Reason_3', 'Reason_4',\n",
        "'Date', 'Transportation Expense', 'Distance to Work', 'Age',\n",
        "'Daily Work Load Average', 'Body Mass Index', 'Education',\n",
        "'Children', 'Pets', 'Absenteeism Time in Hours']"
      ],
      "metadata": {
        "id": "yJzHESDliDFO"
      },
      "execution_count": null,
      "outputs": []
    },
    {
      "cell_type": "code",
      "source": [
        "df=df[column_names_reordered]"
      ],
      "metadata": {
        "id": "S7w1nyP9iUmr"
      },
      "execution_count": null,
      "outputs": []
    },
    {
      "cell_type": "code",
      "source": [
        "df.head()"
      ],
      "metadata": {
        "id": "7dB7SKtXia2F"
      },
      "execution_count": null,
      "outputs": []
    },
    {
      "cell_type": "code",
      "source": [
        "df_reason_mod=df.copy()"
      ],
      "metadata": {
        "id": "BeNbBE4_idsY"
      },
      "execution_count": null,
      "outputs": []
    },
    {
      "cell_type": "code",
      "source": [
        "df_reason_mod"
      ],
      "metadata": {
        "id": "5j3Ix_UTihJA"
      },
      "execution_count": null,
      "outputs": []
    },
    {
      "cell_type": "code",
      "source": [
        "type(df_reason_mod['Date'][0])"
      ],
      "metadata": {
        "id": "OzyyKBJ9ikDl"
      },
      "execution_count": null,
      "outputs": []
    },
    {
      "cell_type": "code",
      "source": [
        "df_reason_mod['Date']=pd.to_datetime(df_reason_mod['Date'])"
      ],
      "metadata": {
        "id": "298TDrmIjHiS"
      },
      "execution_count": null,
      "outputs": []
    },
    {
      "cell_type": "code",
      "source": [
        "df_reason_mod['Date']=pd.to_datetime(df_reason_mod['Date'], format='%d/%m/%Y')"
      ],
      "metadata": {
        "id": "dE1yXfWnjJxg"
      },
      "execution_count": null,
      "outputs": []
    },
    {
      "cell_type": "code",
      "source": [
        "type(df_reason_mod['Date'])"
      ],
      "metadata": {
        "id": "FdkWlhphjPwi"
      },
      "execution_count": null,
      "outputs": []
    },
    {
      "cell_type": "code",
      "source": [
        "df_reason_mod.info()"
      ],
      "metadata": {
        "id": "3klaia8NjTJP"
      },
      "execution_count": null,
      "outputs": []
    },
    {
      "cell_type": "code",
      "source": [
        "df_reason_mod['Date'][0]"
      ],
      "metadata": {
        "id": "PNf9RrpNjURn"
      },
      "execution_count": null,
      "outputs": []
    },
    {
      "cell_type": "code",
      "source": [
        "df_reason_mod['Date'][0].month"
      ],
      "metadata": {
        "id": "nTqvqH3DjWam"
      },
      "execution_count": null,
      "outputs": []
    },
    {
      "cell_type": "code",
      "source": [
        "list_months=[]"
      ],
      "metadata": {
        "id": "MYvxD2gbjZRC"
      },
      "execution_count": null,
      "outputs": []
    },
    {
      "cell_type": "code",
      "source": [
        "for i in range(df_reason_mod.shape[0]):\n",
        "  list_months.append(df_reason_mod['Date'][i].month)"
      ],
      "metadata": {
        "id": "m7oi7Zsljflz"
      },
      "execution_count": null,
      "outputs": []
    },
    {
      "cell_type": "code",
      "source": [
        "list_months"
      ],
      "metadata": {
        "id": "PM0sSI8_kFdV"
      },
      "execution_count": null,
      "outputs": []
    },
    {
      "cell_type": "code",
      "source": [
        "len(list_months)"
      ],
      "metadata": {
        "id": "0jZjQdngkGdt"
      },
      "execution_count": null,
      "outputs": []
    },
    {
      "cell_type": "code",
      "source": [
        "df_reason_mod['Month Value']=list_months"
      ],
      "metadata": {
        "id": "NsX66n5ikYha"
      },
      "execution_count": null,
      "outputs": []
    },
    {
      "cell_type": "code",
      "source": [
        "df_reason_mod.head(20)"
      ],
      "metadata": {
        "id": "r_66FjDWkb_n"
      },
      "execution_count": null,
      "outputs": []
    },
    {
      "cell_type": "code",
      "source": [
        "df_reason_mod['Date'][699].weekday()"
      ],
      "metadata": {
        "id": "e3rjbUDwkd9x"
      },
      "execution_count": null,
      "outputs": []
    },
    {
      "cell_type": "code",
      "source": [
        "df_reason_mod['Date'][699]"
      ],
      "metadata": {
        "id": "0S9evMGfkeUC"
      },
      "execution_count": null,
      "outputs": []
    },
    {
      "cell_type": "code",
      "source": [
        "def date_to_weekday(date_value):\n",
        "  return date_value.weekday()"
      ],
      "metadata": {
        "id": "wS1YB8CVkj6e"
      },
      "execution_count": null,
      "outputs": []
    },
    {
      "cell_type": "code",
      "source": [
        "df_reason_mod['Day of the Week']=df_reason_mod['Date'].apply(date_to_weekday)"
      ],
      "metadata": {
        "id": "UDGTB3OXkoDG"
      },
      "execution_count": null,
      "outputs": []
    },
    {
      "cell_type": "code",
      "source": [
        "df_reason_mod.head()"
      ],
      "metadata": {
        "id": "4VjMmG6fkrk0"
      },
      "execution_count": null,
      "outputs": []
    },
    {
      "cell_type": "code",
      "source": [
        "df_reason_mod=df_reason_mod.drop(['Date'], axis=1)"
      ],
      "metadata": {
        "id": "Kx18cgQ4kux_"
      },
      "execution_count": null,
      "outputs": []
    },
    {
      "cell_type": "code",
      "source": [
        "df_reason_mod.head()"
      ],
      "metadata": {
        "id": "4OjZbGeTk0yy"
      },
      "execution_count": null,
      "outputs": []
    },
    {
      "cell_type": "code",
      "source": [
        "df_reason_mod.columns.values"
      ],
      "metadata": {
        "id": "oYY8AyIMk2Uo"
      },
      "execution_count": null,
      "outputs": []
    },
    {
      "cell_type": "code",
      "source": [
        "column_names_upd=['Reason_1', 'Reason_2', 'Reason_3', 'Reason_4', 'Month Value', 'Day of the Week',\n",
        "'Transportation Expense', 'Distance to Work', 'Age',\n",
        "'Daily Work Load Average', 'Body Mass Index', 'Education', 'Children',\n",
        "'Pets', 'Absenteeism Time in Hours']"
      ],
      "metadata": {
        "id": "2qRs7QnKk5LX"
      },
      "execution_count": null,
      "outputs": []
    },
    {
      "cell_type": "code",
      "source": [
        "df_reason_mod=df_reason_mod[column_names_upd]"
      ],
      "metadata": {
        "id": "jwXCDWp8k8Pw"
      },
      "execution_count": null,
      "outputs": []
    },
    {
      "cell_type": "code",
      "source": [
        "df_reason_mod.head()"
      ],
      "metadata": {
        "id": "pD-tAh-7lA2f"
      },
      "execution_count": null,
      "outputs": []
    },
    {
      "cell_type": "code",
      "source": [
        "df_reason_date_mod=df_reason_mod.copy()"
      ],
      "metadata": {
        "id": "zRY4alVWlEKf"
      },
      "execution_count": null,
      "outputs": []
    },
    {
      "cell_type": "code",
      "source": [
        "df_reason_date_mod"
      ],
      "metadata": {
        "id": "lsbafUWvlJjK"
      },
      "execution_count": null,
      "outputs": []
    },
    {
      "cell_type": "code",
      "source": [
        "type(df_reason_date_mod['Transportation Expense'][0])"
      ],
      "metadata": {
        "id": "5JZrFJyJlKw8"
      },
      "execution_count": null,
      "outputs": []
    },
    {
      "cell_type": "code",
      "source": [
        "type(df_reason_date_mod['Distance to Work'][0])"
      ],
      "metadata": {
        "id": "qf2x4YSzlPq2"
      },
      "execution_count": null,
      "outputs": []
    },
    {
      "cell_type": "code",
      "source": [
        "type(df_reason_date_mod['Age'][0])"
      ],
      "metadata": {
        "id": "T69T0Sn7lS7F"
      },
      "execution_count": null,
      "outputs": []
    },
    {
      "cell_type": "code",
      "source": [
        "type(df_reason_date_mod['Daily Work Load Average'][0])"
      ],
      "metadata": {
        "id": "vmSSCQ9mlUnZ"
      },
      "execution_count": null,
      "outputs": []
    },
    {
      "cell_type": "code",
      "source": [
        "type(df_reason_date_mod['Body Mass Index'][0])"
      ],
      "metadata": {
        "id": "QAWcMDz4lWKj"
      },
      "execution_count": null,
      "outputs": []
    },
    {
      "cell_type": "code",
      "source": [
        "display(df_reason_date_mod)"
      ],
      "metadata": {
        "id": "qO7UGUl0lX4j"
      },
      "execution_count": null,
      "outputs": []
    }
  ]
}